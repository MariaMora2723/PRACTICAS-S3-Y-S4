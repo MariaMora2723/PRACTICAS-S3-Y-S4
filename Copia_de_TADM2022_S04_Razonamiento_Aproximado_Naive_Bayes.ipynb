{
  "nbformat": 4,
  "nbformat_minor": 0,
  "metadata": {
    "colab": {
      "provenance": [],
      "include_colab_link": true
    },
    "kernelspec": {
      "name": "python3",
      "display_name": "Python 3"
    }
  },
  "cells": [
    {
      "cell_type": "markdown",
      "metadata": {
        "id": "view-in-github",
        "colab_type": "text"
      },
      "source": [
        "<a href=\"https://colab.research.google.com/github/MariaMora2723/PRACTICAS-S3-Y-S4/blob/main/Copia_de_TADM2022_S04_Razonamiento_Aproximado_Naive_Bayes.ipynb\" target=\"_parent\"><img src=\"https://colab.research.google.com/assets/colab-badge.svg\" alt=\"Open In Colab\"/></a>"
      ]
    },
    {
      "cell_type": "markdown",
      "metadata": {
        "id": "t1s4a8JyqcyP"
      },
      "source": [
        "Vamos a operar de diferentes maneras con los préstamos de nuestro banco, en concreto vamos a intentar crear clasificadores para que dadas unas variables nos den la probabilidad o el rating de darle un préstamo a un cliente"
      ]
    },
    {
      "cell_type": "markdown",
      "metadata": {
        "id": "vpDTzqbaiodK"
      },
      "source": [
        "## Carga de Datos"
      ]
    },
    {
      "cell_type": "markdown",
      "source": [
        "El siguiente comando sirve para descargar los datos que vamos a usar en la práctica."
      ],
      "metadata": {
        "id": "dZ4pE14uBDDB"
      }
    },
    {
      "cell_type": "code",
      "metadata": {
        "colab": {
          "base_uri": "https://localhost:8080/"
        },
        "id": "lrljckjEtOOm",
        "outputId": "d40bfac0-8412-4b91-a6ba-fb6d4829fc1f"
      },
      "source": [
        "!gdown --id 1Osmr7qVN0NMuqYxvLesNn7H4nqPCVbsU"
      ],
      "execution_count": null,
      "outputs": [
        {
          "output_type": "stream",
          "name": "stdout",
          "text": [
            "/usr/local/lib/python3.7/dist-packages/gdown/cli.py:131: FutureWarning: Option `--id` was deprecated in version 4.3.1 and will be removed in 5.0. You don't need to pass it anymore to use a file ID.\n",
            "  category=FutureWarning,\n",
            "Downloading...\n",
            "From: https://drive.google.com/uc?id=1Osmr7qVN0NMuqYxvLesNn7H4nqPCVbsU\n",
            "To: /content/data_berka.db\n",
            "100% 70.2M/70.2M [00:00<00:00, 228MB/s]\n"
          ]
        }
      ]
    },
    {
      "cell_type": "markdown",
      "metadata": {
        "id": "UDaOStdPirkZ"
      },
      "source": [
        "**1. Cargamos la extensión sql**"
      ]
    },
    {
      "cell_type": "code",
      "metadata": {
        "id": "3Zpf7lz5h7wp"
      },
      "source": [
        "%load_ext sql"
      ],
      "execution_count": null,
      "outputs": []
    },
    {
      "cell_type": "markdown",
      "metadata": {
        "id": "zPGw5HdqiuHI"
      },
      "source": [
        "**2. Nos conectamos con la base de datos**"
      ]
    },
    {
      "cell_type": "code",
      "metadata": {
        "id": "ADklBjhhiPLE",
        "colab": {
          "base_uri": "https://localhost:8080/",
          "height": 36
        },
        "outputId": "0b153274-0305-471b-acf6-782f14c13572"
      },
      "source": [
        "%sql sqlite:///data_berka.db"
      ],
      "execution_count": null,
      "outputs": [
        {
          "output_type": "execute_result",
          "data": {
            "text/plain": [
              "'Connected: @data_berka.db'"
            ],
            "application/vnd.google.colaboratory.intrinsic+json": {
              "type": "string"
            }
          },
          "metadata": {},
          "execution_count": 3
        }
      ]
    },
    {
      "cell_type": "markdown",
      "metadata": {
        "id": "oQlROt7Uidms"
      },
      "source": [
        "> Datos de préstamos ya finalizados con su estado final, incluyendo datos del distrito, etc."
      ]
    },
    {
      "cell_type": "markdown",
      "source": [
        "¿Cuántos préstamos hay por cada estado?"
      ],
      "metadata": {
        "id": "iq0ZnTlWlN1s"
      }
    },
    {
      "cell_type": "code",
      "source": [
        "%%sql\n",
        "SELECT status, count(*)\n",
        "FROM LOAN\n",
        "GROUP BY status\n",
        "ORDER BY status"
      ],
      "metadata": {
        "id": "75QG92jrlNcH",
        "colab": {
          "base_uri": "https://localhost:8080/",
          "height": 161
        },
        "outputId": "4542eca2-4ea4-4933-d580-e1d3e951a984"
      },
      "execution_count": null,
      "outputs": [
        {
          "output_type": "stream",
          "name": "stdout",
          "text": [
            " * sqlite:///data_berka.db\n",
            "Done.\n"
          ]
        },
        {
          "output_type": "execute_result",
          "data": {
            "text/plain": [
              "[('A', 203), ('B', 31), ('C', 403), ('D', 45)]"
            ],
            "text/html": [
              "<table>\n",
              "    <thead>\n",
              "        <tr>\n",
              "            <th>status</th>\n",
              "            <th>count(*)</th>\n",
              "        </tr>\n",
              "    </thead>\n",
              "    <tbody>\n",
              "        <tr>\n",
              "            <td>A</td>\n",
              "            <td>203</td>\n",
              "        </tr>\n",
              "        <tr>\n",
              "            <td>B</td>\n",
              "            <td>31</td>\n",
              "        </tr>\n",
              "        <tr>\n",
              "            <td>C</td>\n",
              "            <td>403</td>\n",
              "        </tr>\n",
              "        <tr>\n",
              "            <td>D</td>\n",
              "            <td>45</td>\n",
              "        </tr>\n",
              "    </tbody>\n",
              "</table>"
            ]
          },
          "metadata": {},
          "execution_count": 4
        }
      ]
    },
    {
      "cell_type": "markdown",
      "source": [
        "Podemos observar como los préstamos por estado son: \n",
        "\n",
        "\n",
        "\n",
        "*   Para el estado A: 203\n",
        "*   Para el estado B: 31\n",
        "*   Para el estado C: 403\n",
        "*   Para el estado D: 45\n",
        "\n",
        "\n",
        "\n"
      ],
      "metadata": {
        "id": "FX9Xnrwr0oOE"
      }
    },
    {
      "cell_type": "markdown",
      "source": [
        "Vamos a empezar obteniendo los datos de los préstamos ya finalizados. Van a ser nuestros datos de entrenamiento. Por lo que seleccionaremos únicamente aquellos préstamos en status 'A' o 'B'. \n",
        "\n",
        "Con una sentencia CASE vamos a poner los prestamos finalizados bien a 1 y los que no finalizaron bien a 0.\n",
        "\n",
        "\n",
        "Sintaxis de uso de [INNER JOIN](https://www.sqlitetutorial.net/sqlite-inner-join/) para establecer joins entre tablas"
      ],
      "metadata": {
        "id": "roYYO_h9kH0d"
      }
    },
    {
      "cell_type": "markdown",
      "source": [
        "A partir de acount accedemos a los datos demográficos. En primer lugar, se hace el join entre loan y account y después le indicamos que queremos los préstamos que se encuentren en estado A y B. \n",
        "\n",
        "La primera línea es para volcar todo en loans_train. \n",
        "\n",
        "Una nueva médida es el \"INNER JOIN on\" metido a través del FROM. "
      ],
      "metadata": {
        "id": "DiBX4oyaEtPI"
      }
    },
    {
      "cell_type": "markdown",
      "source": [
        "El **CASE** es una forma a partir de diferentes casos de establecer diferentes valores de salida:\n",
        "En este caso cuando sea A el resultado va a ser 1 y cuando sea B el resultado va a ser 0. \n",
        "Existe también meterle \"else\" para ponerle un valor alternativo. "
      ],
      "metadata": {
        "id": "KzoMKIYGGIgJ"
      }
    },
    {
      "cell_type": "code",
      "metadata": {
        "id": "dbTj5fJxiasa",
        "colab": {
          "base_uri": "https://localhost:8080/"
        },
        "outputId": "9140ffae-3799-49ce-d8a9-ace2ad80c8d8"
      },
      "source": [
        "%%sql loans_train << SELECT substr(l.date,0,3) year, amount, duration, payments, A11, A13,\n",
        "  CASE status WHEN 'A' THEN 1\n",
        "              WHEN 'B' THEN 0\n",
        "  END label\n",
        "  FROM LOAN l, ACCOUNT a INNER JOIN DISTRICT d on a.district_id = d.A1 \n",
        "  WHERE l.account_id = a.account_id and l.status in (\"A\", \"B\")"
      ],
      "execution_count": null,
      "outputs": [
        {
          "output_type": "stream",
          "name": "stdout",
          "text": [
            " * sqlite:///data_berka.db\n",
            "Done.\n",
            "Returning data to local variable loans_train\n"
          ]
        }
      ]
    },
    {
      "cell_type": "markdown",
      "metadata": {
        "id": "Jj_-Qp_yiyeB"
      },
      "source": [
        "3. **Obtenemos el DataFrame** \n",
        "\n"
      ]
    },
    {
      "cell_type": "markdown",
      "source": [
        "Tenemos una tabla de aprendizaje supervisado, es decir, conformada por características, variables numéricas... "
      ],
      "metadata": {
        "id": "Q_6uXqm_GqXW"
      }
    },
    {
      "cell_type": "code",
      "metadata": {
        "id": "EgN-fsjUimKL",
        "colab": {
          "base_uri": "https://localhost:8080/",
          "height": 206
        },
        "outputId": "5ba4e2aa-2a41-4b0f-a052-daa751e51c6c"
      },
      "source": [
        "df_train = loans_train.DataFrame()\n",
        "df_train.head()"
      ],
      "execution_count": null,
      "outputs": [
        {
          "output_type": "execute_result",
          "data": {
            "text/plain": [
              "  year  amount  duration  payments    A11   A13  label\n",
              "0   93   96396        12      8033   9650  3.67      0\n",
              "1   93  165960        36      4610   8369  2.31      1\n",
              "2   93  127080        60      2118   8390  2.89      1\n",
              "3   93  105804        36      2939   8754  4.31      1\n",
              "4   93  274740        60      4579  12541  0.43      1"
            ],
            "text/html": [
              "\n",
              "  <div id=\"df-bcf0e45b-3af3-4546-a209-0a5e04c9ca12\">\n",
              "    <div class=\"colab-df-container\">\n",
              "      <div>\n",
              "<style scoped>\n",
              "    .dataframe tbody tr th:only-of-type {\n",
              "        vertical-align: middle;\n",
              "    }\n",
              "\n",
              "    .dataframe tbody tr th {\n",
              "        vertical-align: top;\n",
              "    }\n",
              "\n",
              "    .dataframe thead th {\n",
              "        text-align: right;\n",
              "    }\n",
              "</style>\n",
              "<table border=\"1\" class=\"dataframe\">\n",
              "  <thead>\n",
              "    <tr style=\"text-align: right;\">\n",
              "      <th></th>\n",
              "      <th>year</th>\n",
              "      <th>amount</th>\n",
              "      <th>duration</th>\n",
              "      <th>payments</th>\n",
              "      <th>A11</th>\n",
              "      <th>A13</th>\n",
              "      <th>label</th>\n",
              "    </tr>\n",
              "  </thead>\n",
              "  <tbody>\n",
              "    <tr>\n",
              "      <th>0</th>\n",
              "      <td>93</td>\n",
              "      <td>96396</td>\n",
              "      <td>12</td>\n",
              "      <td>8033</td>\n",
              "      <td>9650</td>\n",
              "      <td>3.67</td>\n",
              "      <td>0</td>\n",
              "    </tr>\n",
              "    <tr>\n",
              "      <th>1</th>\n",
              "      <td>93</td>\n",
              "      <td>165960</td>\n",
              "      <td>36</td>\n",
              "      <td>4610</td>\n",
              "      <td>8369</td>\n",
              "      <td>2.31</td>\n",
              "      <td>1</td>\n",
              "    </tr>\n",
              "    <tr>\n",
              "      <th>2</th>\n",
              "      <td>93</td>\n",
              "      <td>127080</td>\n",
              "      <td>60</td>\n",
              "      <td>2118</td>\n",
              "      <td>8390</td>\n",
              "      <td>2.89</td>\n",
              "      <td>1</td>\n",
              "    </tr>\n",
              "    <tr>\n",
              "      <th>3</th>\n",
              "      <td>93</td>\n",
              "      <td>105804</td>\n",
              "      <td>36</td>\n",
              "      <td>2939</td>\n",
              "      <td>8754</td>\n",
              "      <td>4.31</td>\n",
              "      <td>1</td>\n",
              "    </tr>\n",
              "    <tr>\n",
              "      <th>4</th>\n",
              "      <td>93</td>\n",
              "      <td>274740</td>\n",
              "      <td>60</td>\n",
              "      <td>4579</td>\n",
              "      <td>12541</td>\n",
              "      <td>0.43</td>\n",
              "      <td>1</td>\n",
              "    </tr>\n",
              "  </tbody>\n",
              "</table>\n",
              "</div>\n",
              "      <button class=\"colab-df-convert\" onclick=\"convertToInteractive('df-bcf0e45b-3af3-4546-a209-0a5e04c9ca12')\"\n",
              "              title=\"Convert this dataframe to an interactive table.\"\n",
              "              style=\"display:none;\">\n",
              "        \n",
              "  <svg xmlns=\"http://www.w3.org/2000/svg\" height=\"24px\"viewBox=\"0 0 24 24\"\n",
              "       width=\"24px\">\n",
              "    <path d=\"M0 0h24v24H0V0z\" fill=\"none\"/>\n",
              "    <path d=\"M18.56 5.44l.94 2.06.94-2.06 2.06-.94-2.06-.94-.94-2.06-.94 2.06-2.06.94zm-11 1L8.5 8.5l.94-2.06 2.06-.94-2.06-.94L8.5 2.5l-.94 2.06-2.06.94zm10 10l.94 2.06.94-2.06 2.06-.94-2.06-.94-.94-2.06-.94 2.06-2.06.94z\"/><path d=\"M17.41 7.96l-1.37-1.37c-.4-.4-.92-.59-1.43-.59-.52 0-1.04.2-1.43.59L10.3 9.45l-7.72 7.72c-.78.78-.78 2.05 0 2.83L4 21.41c.39.39.9.59 1.41.59.51 0 1.02-.2 1.41-.59l7.78-7.78 2.81-2.81c.8-.78.8-2.07 0-2.86zM5.41 20L4 18.59l7.72-7.72 1.47 1.35L5.41 20z\"/>\n",
              "  </svg>\n",
              "      </button>\n",
              "      \n",
              "  <style>\n",
              "    .colab-df-container {\n",
              "      display:flex;\n",
              "      flex-wrap:wrap;\n",
              "      gap: 12px;\n",
              "    }\n",
              "\n",
              "    .colab-df-convert {\n",
              "      background-color: #E8F0FE;\n",
              "      border: none;\n",
              "      border-radius: 50%;\n",
              "      cursor: pointer;\n",
              "      display: none;\n",
              "      fill: #1967D2;\n",
              "      height: 32px;\n",
              "      padding: 0 0 0 0;\n",
              "      width: 32px;\n",
              "    }\n",
              "\n",
              "    .colab-df-convert:hover {\n",
              "      background-color: #E2EBFA;\n",
              "      box-shadow: 0px 1px 2px rgba(60, 64, 67, 0.3), 0px 1px 3px 1px rgba(60, 64, 67, 0.15);\n",
              "      fill: #174EA6;\n",
              "    }\n",
              "\n",
              "    [theme=dark] .colab-df-convert {\n",
              "      background-color: #3B4455;\n",
              "      fill: #D2E3FC;\n",
              "    }\n",
              "\n",
              "    [theme=dark] .colab-df-convert:hover {\n",
              "      background-color: #434B5C;\n",
              "      box-shadow: 0px 1px 3px 1px rgba(0, 0, 0, 0.15);\n",
              "      filter: drop-shadow(0px 1px 2px rgba(0, 0, 0, 0.3));\n",
              "      fill: #FFFFFF;\n",
              "    }\n",
              "  </style>\n",
              "\n",
              "      <script>\n",
              "        const buttonEl =\n",
              "          document.querySelector('#df-bcf0e45b-3af3-4546-a209-0a5e04c9ca12 button.colab-df-convert');\n",
              "        buttonEl.style.display =\n",
              "          google.colab.kernel.accessAllowed ? 'block' : 'none';\n",
              "\n",
              "        async function convertToInteractive(key) {\n",
              "          const element = document.querySelector('#df-bcf0e45b-3af3-4546-a209-0a5e04c9ca12');\n",
              "          const dataTable =\n",
              "            await google.colab.kernel.invokeFunction('convertToInteractive',\n",
              "                                                     [key], {});\n",
              "          if (!dataTable) return;\n",
              "\n",
              "          const docLinkHtml = 'Like what you see? Visit the ' +\n",
              "            '<a target=\"_blank\" href=https://colab.research.google.com/notebooks/data_table.ipynb>data table notebook</a>'\n",
              "            + ' to learn more about interactive tables.';\n",
              "          element.innerHTML = '';\n",
              "          dataTable['output_type'] = 'display_data';\n",
              "          await google.colab.output.renderOutput(dataTable, element);\n",
              "          const docLink = document.createElement('div');\n",
              "          docLink.innerHTML = docLinkHtml;\n",
              "          element.appendChild(docLink);\n",
              "        }\n",
              "      </script>\n",
              "    </div>\n",
              "  </div>\n",
              "  "
            ]
          },
          "metadata": {},
          "execution_count": 6
        }
      ]
    },
    {
      "cell_type": "code",
      "source": [
        "df_train.shape"
      ],
      "metadata": {
        "colab": {
          "base_uri": "https://localhost:8080/"
        },
        "id": "75rgtscNqQ3T",
        "outputId": "934a8e1f-a6a5-45b1-b5f5-a5e071ee2423"
      },
      "execution_count": null,
      "outputs": [
        {
          "output_type": "execute_result",
          "data": {
            "text/plain": [
              "(234, 7)"
            ]
          },
          "metadata": {},
          "execution_count": 7
        }
      ]
    },
    {
      "cell_type": "markdown",
      "source": [
        "Para la parte de **test** lo que vamos a extraer de la base de datos son los préstamos que están en ejecución (\"status in (\"C\", \"D\")) con los mismos campos que en la consulta anterior."
      ],
      "metadata": {
        "id": "LXHPTwjEHjRj"
      }
    },
    {
      "cell_type": "code",
      "source": [
        "%%sql loans_test << SELECT substr(l.date,0,3) year, amount, duration, payments, A11, A13,\n",
        "  CASE status WHEN 'C' THEN 1\n",
        "              WHEN 'D' THEN 0\n",
        "  END label\n",
        "  FROM LOAN l, ACCOUNT a INNER JOIN DISTRICT d on a.district_id = d.A1 \n",
        "  WHERE l.account_id = a.account_id and l.status in (\"C\", \"D\")"
      ],
      "metadata": {
        "colab": {
          "base_uri": "https://localhost:8080/"
        },
        "id": "i65WhpR4k9fk",
        "outputId": "34ee2e11-0750-48a6-8b07-0fd12e500c5d"
      },
      "execution_count": null,
      "outputs": [
        {
          "output_type": "stream",
          "name": "stdout",
          "text": [
            " * sqlite:///data_berka.db\n",
            "Done.\n",
            "Returning data to local variable loans_test\n"
          ]
        }
      ]
    },
    {
      "cell_type": "markdown",
      "source": [
        "**Ejercicio: Añadir la edad del cliente propietario de la cuenta del prestamo y algún campo de datos demográficos adicionales.**\n"
      ],
      "metadata": {
        "id": "6qRaWxnkcLC3"
      }
    },
    {
      "cell_type": "code",
      "source": [
        "df_test = loans_test.DataFrame()\n",
        "df_test.head()"
      ],
      "metadata": {
        "colab": {
          "base_uri": "https://localhost:8080/",
          "height": 206
        },
        "id": "dpwgRcLZlJvp",
        "outputId": "957b6c93-32c4-4b20-8eae-baf0b27ad469"
      },
      "execution_count": null,
      "outputs": [
        {
          "output_type": "execute_result",
          "data": {
            "text/plain": [
              "  year  amount  duration  payments   A11   A13  label\n",
              "0   94  253200        60      4220  9893  4.72      1\n",
              "1   94  300660        60      5011  9317  7.07      1\n",
              "2   94  167100        60      2785  8544  1.86      1\n",
              "3   94  149340        60      2489  8254  3.76      1\n",
              "4   94   89040        60      1484  8909  5.56      1"
            ],
            "text/html": [
              "\n",
              "  <div id=\"df-3fdf8920-5229-412c-8d1f-668be8f93f54\">\n",
              "    <div class=\"colab-df-container\">\n",
              "      <div>\n",
              "<style scoped>\n",
              "    .dataframe tbody tr th:only-of-type {\n",
              "        vertical-align: middle;\n",
              "    }\n",
              "\n",
              "    .dataframe tbody tr th {\n",
              "        vertical-align: top;\n",
              "    }\n",
              "\n",
              "    .dataframe thead th {\n",
              "        text-align: right;\n",
              "    }\n",
              "</style>\n",
              "<table border=\"1\" class=\"dataframe\">\n",
              "  <thead>\n",
              "    <tr style=\"text-align: right;\">\n",
              "      <th></th>\n",
              "      <th>year</th>\n",
              "      <th>amount</th>\n",
              "      <th>duration</th>\n",
              "      <th>payments</th>\n",
              "      <th>A11</th>\n",
              "      <th>A13</th>\n",
              "      <th>label</th>\n",
              "    </tr>\n",
              "  </thead>\n",
              "  <tbody>\n",
              "    <tr>\n",
              "      <th>0</th>\n",
              "      <td>94</td>\n",
              "      <td>253200</td>\n",
              "      <td>60</td>\n",
              "      <td>4220</td>\n",
              "      <td>9893</td>\n",
              "      <td>4.72</td>\n",
              "      <td>1</td>\n",
              "    </tr>\n",
              "    <tr>\n",
              "      <th>1</th>\n",
              "      <td>94</td>\n",
              "      <td>300660</td>\n",
              "      <td>60</td>\n",
              "      <td>5011</td>\n",
              "      <td>9317</td>\n",
              "      <td>7.07</td>\n",
              "      <td>1</td>\n",
              "    </tr>\n",
              "    <tr>\n",
              "      <th>2</th>\n",
              "      <td>94</td>\n",
              "      <td>167100</td>\n",
              "      <td>60</td>\n",
              "      <td>2785</td>\n",
              "      <td>8544</td>\n",
              "      <td>1.86</td>\n",
              "      <td>1</td>\n",
              "    </tr>\n",
              "    <tr>\n",
              "      <th>3</th>\n",
              "      <td>94</td>\n",
              "      <td>149340</td>\n",
              "      <td>60</td>\n",
              "      <td>2489</td>\n",
              "      <td>8254</td>\n",
              "      <td>3.76</td>\n",
              "      <td>1</td>\n",
              "    </tr>\n",
              "    <tr>\n",
              "      <th>4</th>\n",
              "      <td>94</td>\n",
              "      <td>89040</td>\n",
              "      <td>60</td>\n",
              "      <td>1484</td>\n",
              "      <td>8909</td>\n",
              "      <td>5.56</td>\n",
              "      <td>1</td>\n",
              "    </tr>\n",
              "  </tbody>\n",
              "</table>\n",
              "</div>\n",
              "      <button class=\"colab-df-convert\" onclick=\"convertToInteractive('df-3fdf8920-5229-412c-8d1f-668be8f93f54')\"\n",
              "              title=\"Convert this dataframe to an interactive table.\"\n",
              "              style=\"display:none;\">\n",
              "        \n",
              "  <svg xmlns=\"http://www.w3.org/2000/svg\" height=\"24px\"viewBox=\"0 0 24 24\"\n",
              "       width=\"24px\">\n",
              "    <path d=\"M0 0h24v24H0V0z\" fill=\"none\"/>\n",
              "    <path d=\"M18.56 5.44l.94 2.06.94-2.06 2.06-.94-2.06-.94-.94-2.06-.94 2.06-2.06.94zm-11 1L8.5 8.5l.94-2.06 2.06-.94-2.06-.94L8.5 2.5l-.94 2.06-2.06.94zm10 10l.94 2.06.94-2.06 2.06-.94-2.06-.94-.94-2.06-.94 2.06-2.06.94z\"/><path d=\"M17.41 7.96l-1.37-1.37c-.4-.4-.92-.59-1.43-.59-.52 0-1.04.2-1.43.59L10.3 9.45l-7.72 7.72c-.78.78-.78 2.05 0 2.83L4 21.41c.39.39.9.59 1.41.59.51 0 1.02-.2 1.41-.59l7.78-7.78 2.81-2.81c.8-.78.8-2.07 0-2.86zM5.41 20L4 18.59l7.72-7.72 1.47 1.35L5.41 20z\"/>\n",
              "  </svg>\n",
              "      </button>\n",
              "      \n",
              "  <style>\n",
              "    .colab-df-container {\n",
              "      display:flex;\n",
              "      flex-wrap:wrap;\n",
              "      gap: 12px;\n",
              "    }\n",
              "\n",
              "    .colab-df-convert {\n",
              "      background-color: #E8F0FE;\n",
              "      border: none;\n",
              "      border-radius: 50%;\n",
              "      cursor: pointer;\n",
              "      display: none;\n",
              "      fill: #1967D2;\n",
              "      height: 32px;\n",
              "      padding: 0 0 0 0;\n",
              "      width: 32px;\n",
              "    }\n",
              "\n",
              "    .colab-df-convert:hover {\n",
              "      background-color: #E2EBFA;\n",
              "      box-shadow: 0px 1px 2px rgba(60, 64, 67, 0.3), 0px 1px 3px 1px rgba(60, 64, 67, 0.15);\n",
              "      fill: #174EA6;\n",
              "    }\n",
              "\n",
              "    [theme=dark] .colab-df-convert {\n",
              "      background-color: #3B4455;\n",
              "      fill: #D2E3FC;\n",
              "    }\n",
              "\n",
              "    [theme=dark] .colab-df-convert:hover {\n",
              "      background-color: #434B5C;\n",
              "      box-shadow: 0px 1px 3px 1px rgba(0, 0, 0, 0.15);\n",
              "      filter: drop-shadow(0px 1px 2px rgba(0, 0, 0, 0.3));\n",
              "      fill: #FFFFFF;\n",
              "    }\n",
              "  </style>\n",
              "\n",
              "      <script>\n",
              "        const buttonEl =\n",
              "          document.querySelector('#df-3fdf8920-5229-412c-8d1f-668be8f93f54 button.colab-df-convert');\n",
              "        buttonEl.style.display =\n",
              "          google.colab.kernel.accessAllowed ? 'block' : 'none';\n",
              "\n",
              "        async function convertToInteractive(key) {\n",
              "          const element = document.querySelector('#df-3fdf8920-5229-412c-8d1f-668be8f93f54');\n",
              "          const dataTable =\n",
              "            await google.colab.kernel.invokeFunction('convertToInteractive',\n",
              "                                                     [key], {});\n",
              "          if (!dataTable) return;\n",
              "\n",
              "          const docLinkHtml = 'Like what you see? Visit the ' +\n",
              "            '<a target=\"_blank\" href=https://colab.research.google.com/notebooks/data_table.ipynb>data table notebook</a>'\n",
              "            + ' to learn more about interactive tables.';\n",
              "          element.innerHTML = '';\n",
              "          dataTable['output_type'] = 'display_data';\n",
              "          await google.colab.output.renderOutput(dataTable, element);\n",
              "          const docLink = document.createElement('div');\n",
              "          docLink.innerHTML = docLinkHtml;\n",
              "          element.appendChild(docLink);\n",
              "        }\n",
              "      </script>\n",
              "    </div>\n",
              "  </div>\n",
              "  "
            ]
          },
          "metadata": {},
          "execution_count": 9
        }
      ]
    },
    {
      "cell_type": "markdown",
      "metadata": {
        "id": "AcgHrYibsQn3"
      },
      "source": [
        "**4. División de los datos en entrenamiento y test**"
      ]
    },
    {
      "cell_type": "code",
      "source": [
        "features = [\"year\", \"amount\", \"duration\", \"payments\",\"A11\", \"A13\"]"
      ],
      "metadata": {
        "id": "mH1b4h27kA85"
      },
      "execution_count": null,
      "outputs": []
    },
    {
      "cell_type": "markdown",
      "source": [
        "**Features** es una variable de tipo lista que me almacena los nombres de las características que me sirven como entrada. "
      ],
      "metadata": {
        "id": "IeWa5UkfIug_"
      }
    },
    {
      "cell_type": "code",
      "metadata": {
        "id": "iRV2W22-sTKg"
      },
      "source": [
        "X_train = df_train[features]\n",
        "y_train = df_train[\"label\"]\n",
        "\n",
        "X_test = df_test[features]\n",
        "y_test = df_test[\"label\"]\n"
      ],
      "execution_count": null,
      "outputs": []
    },
    {
      "cell_type": "markdown",
      "source": [
        "Ponemos como train (creación del modelo) los datos de préstamos ya finalizados y como test (evaluación del modelo) los datos de préstamos en ejecución. "
      ],
      "metadata": {
        "id": "wUCxCDElIM-l"
      }
    },
    {
      "cell_type": "markdown",
      "source": [
        "**5. Normalizarlos puede ser una buena medida para obtener mejores resultados.**\n",
        "Para ello vamos a utilizar el [StandardScaler](https://scikit-learn.org/stable/modules/generated/sklearn.preprocessing.StandardScaler.html)\n",
        "\n",
        "El centrado y el escalado se realizan de forma independiente en cada característica, calculando las estadísticas pertinentes en las muestras del **conjunto de entrenamiento**. La media y la desviación estándar se almacenan para utilizarlas en datos posteriores mediante una **transformación**.\n",
        "\n",
        "Mas información sobre normalización en el siguiente [enlace](https://scikit-learn.org/stable/modules/preprocessing.html#preprocessing-scaler)\n"
      ],
      "metadata": {
        "id": "TWn1Xr-Cqas7"
      }
    },
    {
      "cell_type": "markdown",
      "source": [
        "Al aplicar la tipificación, anula el efecto escala y eso hace mejorar nuestro modelo. "
      ],
      "metadata": {
        "id": "pHw0mrWmQsKu"
      }
    },
    {
      "cell_type": "code",
      "source": [
        "from sklearn.preprocessing import StandardScaler\n",
        "scaler = StandardScaler()\n",
        "# calculo de los factores de centrado y escalado\n",
        "scaler.fit(X_train) \n",
        "# transformación\n",
        "X_train = scaler.transform(X_train)\n",
        "X_test = scaler.transform(X_test)"
      ],
      "metadata": {
        "id": "BaaMrekmpKH3"
      },
      "execution_count": null,
      "outputs": []
    },
    {
      "cell_type": "markdown",
      "source": [
        "Se lleva a cabo un proceso de estandarización en el que se fija a los datos de entrenamiento y luego se aplica a datos de entrenamiento y de test."
      ],
      "metadata": {
        "id": "mtQODIPMKF0N"
      }
    },
    {
      "cell_type": "markdown",
      "source": [
        "Aplicamos un modelo [NaiveBayes](https://scikit-learn.org/stable/modules/naive_bayes.html?highlight=naive+bayes) para construir un clasificador de préstamos"
      ],
      "metadata": {
        "id": "Uf-IVArsl8qM"
      }
    },
    {
      "cell_type": "code",
      "source": [
        "from sklearn.naive_bayes import GaussianNB #, MultinomialNB, BernoulliNB, ComplementNB\n",
        "\n",
        "gnb = GaussianNB()\n",
        "clf = gnb.fit(X_train, y_train)\n",
        "y_pred = clf.predict(X_test)\n",
        "print(\"Número de préstamos clasificados erroneamente %d de un total de  %d\"  % (X_test.shape[0], (y_test != y_pred).sum()))\n"
      ],
      "metadata": {
        "colab": {
          "base_uri": "https://localhost:8080/"
        },
        "id": "MZHrLj9inBOv",
        "outputId": "2f4064c2-548e-4039-acc6-160d2407c9af"
      },
      "execution_count": null,
      "outputs": [
        {
          "output_type": "stream",
          "name": "stdout",
          "text": [
            "Número de préstamos clasificados erroneamente 448 de un total de  123\n"
          ]
        }
      ]
    },
    {
      "cell_type": "markdown",
      "source": [
        "**GaussianNB** sirve para variables continuas. \n",
        "\n",
        "**MultinomialNB** sirve para variables de frecuencias de valores enteros, y se usa mucho cuando se esta clasificando texto. \n",
        "\n",
        "El **BernoulliNB** es cuando las variables son binarias. \n",
        "\n",
        "El **ComplementNB** es una variante del multinomia pero para mejorar los resultados en problema de clasificación no balanceados. \n",
        "\n",
        "Se elige cualquiera de los 4, se entrena con el fit, y posteriormente se extraen las predicciones (probabilidad de clasificación de cada una de las clases) y se compara lo que se ha extraido del A y B con lo que se ha extraido del C y D. "
      ],
      "metadata": {
        "id": "pM7_UbFcJCbG"
      }
    },
    {
      "cell_type": "markdown",
      "source": [
        "Para ver que resultados tenemos sobre la colección de `test` utilizamos en primer lugar el informe de los resultados [`classification report`](https://scikit-learn.org/stable/modules/model_evaluation.html#classification-report)"
      ],
      "metadata": {
        "id": "sSXcCuddmOFV"
      }
    },
    {
      "cell_type": "code",
      "source": [
        "from sklearn.metrics import classification_report\n",
        "print(classification_report(y_test, y_pred, labels=clf.classes_))"
      ],
      "metadata": {
        "colab": {
          "base_uri": "https://localhost:8080/"
        },
        "id": "f9BITuBznBAC",
        "outputId": "3f217feb-f053-4830-9195-b1e8a6cc5b0e"
      },
      "execution_count": null,
      "outputs": [
        {
          "output_type": "stream",
          "name": "stdout",
          "text": [
            "              precision    recall  f1-score   support\n",
            "\n",
            "           0       0.20      0.60      0.31        45\n",
            "           1       0.94      0.74      0.83       403\n",
            "\n",
            "    accuracy                           0.73       448\n",
            "   macro avg       0.57      0.67      0.57       448\n",
            "weighted avg       0.87      0.73      0.78       448\n",
            "\n"
          ]
        }
      ]
    },
    {
      "cell_type": "markdown",
      "source": [
        "Y la [matriz de confusión](https://scikit-learn.org/stable/modules/generated/sklearn.metrics.ConfusionMatrixDisplay.html)"
      ],
      "metadata": {
        "id": "rosWtD4MnPAw"
      }
    },
    {
      "cell_type": "code",
      "source": [
        "import matplotlib.pyplot as plt\n",
        "from sklearn.metrics import confusion_matrix, ConfusionMatrixDisplay\n",
        "cm = confusion_matrix(y_test, y_pred, labels= clf.classes_)\n",
        "disp = ConfusionMatrixDisplay(confusion_matrix=cm, display_labels=clf.classes_)\n",
        "disp.plot()"
      ],
      "metadata": {
        "colab": {
          "base_uri": "https://localhost:8080/",
          "height": 297
        },
        "id": "qSZzOldtoOku",
        "outputId": "012fffe1-2aec-404f-858b-beccc4207e89"
      },
      "execution_count": null,
      "outputs": [
        {
          "output_type": "execute_result",
          "data": {
            "text/plain": [
              "<sklearn.metrics._plot.confusion_matrix.ConfusionMatrixDisplay at 0x7fc5a529cf90>"
            ]
          },
          "metadata": {},
          "execution_count": 15
        },
        {
          "output_type": "display_data",
          "data": {
            "text/plain": [
              "<Figure size 432x288 with 2 Axes>"
            ],
            "image/png": "[encoded data removed]"
          },
          "metadata": {
            "needs_background": "light"
          }
        }
      ]
    },
    {
      "cell_type": "markdown",
      "source": [
        "La matriz de confusión refleja en que nos estamos equivocando y en que estamos acertando. \n",
        "El eje de la Y refleja lo real y el eje de la X refleja lo que predecimos, con lo que: \n",
        "\n",
        "- Lo que esta en amarillo refleja lo que está verdaderamente pagado tanto en la realidad como en las predicciones. \n",
        "\n",
        "- En azul refleja lo que está verdaderamente pagado en la realidad pero no en la predicción. \n",
        "\n",
        "- En azulón refleja lo que no está verdaderamente pagado ni en la realidad ni en la predicción. \n",
        "\n",
        "- En morado refleja lo que no está verdaderamente pagado en la realidad pero si en la predicción. \n",
        "\n",
        "El problema en el resultado, al aplicar este clasificador de Naive Bayes, es que se pasa con los impagos (tiene 105 reales). "
      ],
      "metadata": {
        "id": "Tz30mBHbLKOe"
      }
    }
  ]
}